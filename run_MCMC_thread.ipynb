{
 "cells": [
  {
   "cell_type": "markdown",
   "metadata": {},
   "source": [
    "# 1. Setup"
   ]
  },
  {
   "cell_type": "code",
   "execution_count": 1,
   "metadata": {},
   "outputs": [
    {
     "data": {
      "text/plain": [
       "0"
      ]
     },
     "execution_count": 1,
     "metadata": {},
     "output_type": "execute_result"
    }
   ],
   "source": [
    "# some imports\n",
    "import sys\n",
    "import os\n",
    "import MCMC_Noddy as mcmc     \n",
    "from glob import glob\n",
    "import vedo as vtkP\n",
    "\n",
    "# give correct permissions to the executable\n",
    "folder = os.getcwd()\n",
    "noddyEXE = folder+'/noddy_linux.exe'\n",
    "strV = 'chmod 777 '+noddyEXE\n",
    "os.system(strV)"
   ]
  },
  {
   "cell_type": "markdown",
   "metadata": {},
   "source": [
    "# 2. Choose hyper parameters"
   ]
  },
  {
   "cell_type": "code",
   "execution_count": null,
   "metadata": {},
   "outputs": [],
   "source": [
    "HyperParameters = {}\n",
    "\n",
    "HyperParameters['ScenarioNum'] = 18\n",
    "HyperParameters['SimulationShiftType'] = 'Median Datum Shift'\n",
    "HyperParameters['DatNormMethod'] = 'MedianInitialRounds'\n",
    "HyperParameters['ExplorationRate'] = 'LinearErrorBased'\n",
    "HyperParameters['ErrorType'] = 'Global'\n",
    "HyperParameters['ErrorNorm'] = 'L1'\n",
    "HyperParameters['ExplorationStage'] = 'Explore'\n",
    "HyperParameters['AcceptProbType'] = 'Track Acceptance'\n",
    "HyperParameters['cubesize'] = 150\n",
    "HyperParameters['AcceptanceGoal'] = 0.2\n",
    "HyperParameters['ConstNormFactor'] = 0.01\n",
    "HyperParameters['GlobalMoveEachDir'] = 500\n",
    "HyperParameters['XYZ_Axes_StepStd'] = 100\n",
    "HyperParameters['Dip_StepStd'] = 5\n",
    "HyperParameters['Slip_StepStd'] = 50\n",
    "HyperParameters['DipDirection_StepStd'] = 6\n",
    "HyperParameters['SlipParam'] = 0.1\n",
    "HyperParameters['SteppingSizeMult'] = 1/0.9\n",
    "HyperParameters['MaxFaultMarkerError'] = 525\n",
    "HyperParameters['AmplitudeRatioChange'] = 0.1\n",
    "HyperParameters['AzimuthMoveEachDirection'] = 6\n",
    "HyperParameters['AxisRatioChange'] = 0.1\n",
    "HyperParameters['DipMoveEachDirection'] = 32\n",
    "HyperParameters['nExploreRuns'] = 50\n",
    "HyperParameters['MO_WeightingMethod'] = 'Proportions'\n",
    "HyperParameters['MCMC_SwitchWeightFreq'] = 20\n",
    "HyperParameters['LocalWeightsMode'] = 'na'\n",
    "\n",
    "Thread_num = 0 \n",
    "HyperParameters['thread_num'] = Thread_num        \n",
    "HyperParameters['Toy']=False\n",
    "HyperParameters['verbose']=True\n",
    "HyperParameters['nruns']=200\n",
    "HyperParameters['BaseFolder']='Combo_Scratch'\n",
    "HyperParameters['GeneralPerturbStrategy']='OnlyGlobal'\n",
    "HyperParameters['ControlPointMovementUnits'] = 'Absolute value'\n",
    "HyperParameters['errCalcMethodFaultMarker']= 'Distance'\n",
    "HyperParameters['DataTypes'] = ['Grav', 'Mag', 'GT', 'FaultMarkers']\n",
    "HyperParameters['JoinType']='LINES'\n",
    "HyperParameters['xy_origin']=[316448, 4379166, -2700]\n",
    "HyperParameters['xy_extent'] = [8850, 9000,3900]\n",
    "HyperParameters['DatNormCoef'] = {'Grav': 2.4, 'Tracer': 1.0, \n",
    "                        'FaultMarkers': 500, 'GT': 315, 'Mag':300}\n",
    "HyperParameters['verbose']=True    \n",
    "HyperParameters['graniteIdx'] = 4\n",
    "HyperParameters['Windows'] = False\n",
    "HyperParameters['jupyter'] = True\n",
    "\n",
    "HyperParameters['OutputImageFreq'] = 15        \n",
    "HyperParameters['OptimMethod']='MCMC'"
   ]
  },
  {
   "cell_type": "markdown",
   "metadata": {},
   "source": [
    "# 3. Run and view results every x times (x=output image frequency)"
   ]
  },
  {
   "cell_type": "code",
   "execution_count": null,
   "metadata": {},
   "outputs": [],
   "source": [
    "if(HyperParameters['OptimMethod']=='MCMC'):\n",
    "    mcmc.MCMC_Noddy(HyperParameters)"
   ]
  },
  {
   "cell_type": "markdown",
   "metadata": {},
   "source": [
    "# 4. Find the model with least error"
   ]
  },
  {
   "cell_type": "code",
   "execution_count": null,
   "metadata": {},
   "outputs": [],
   "source": [
    "#Loop through all of the files and take the best and and another 5 random ones and copy them over\n",
    "def GetIterationNumFromFile(file):\n",
    "    result = re.search('G_(.*)_Err', file)\n",
    "    return int(result.group(1))\n",
    "\n",
    "def GetErrFromFile(file):\n",
    "    result = re.search('Err_(.*).his', file)\n",
    "    return float(result.group(1))\n",
    "\n",
    "folder = os.getcwd()+'/Combo_Scratch/Thread'+str(Thread_num)+'/HistoryFileInspection/'\n",
    "files = glob(folder+'*.his')\n",
    "nFiles = len(files)\n",
    "\n",
    "MasterFileList = []\n",
    "ErrV=1000000.0\n",
    "bestIter=0\n",
    "for i in range(nFiles):\n",
    "    file_i = files[i]\n",
    "    print('reading: '+ file_i)\n",
    "    Err=GetErrFromFile(file_i)\n",
    "    Iter=GetIterationNumFromFile(file_i)\n",
    "    if(Err<ErrV):\n",
    "        ErrV = Err\n",
    "        bestIter = Iter\n",
    "        best_model_file = file_i\n",
    "\n",
    "print('best file is: ' + best_model_file)"
   ]
  },
  {
   "cell_type": "markdown",
   "metadata": {},
   "source": [
    "# 5. Plot in 3D"
   ]
  },
  {
   "cell_type": "code",
   "execution_count": 10,
   "metadata": {},
   "outputs": [],
   "source": [
    "import plot3d_util as plt3d\n",
    "import vedo as vtkP\n",
    "import pandas as pd\n",
    "from scipy.spatial import Delaunay\n",
    "vtkP.settings.embedWindow('k3d') #you can also choose to change to itkwidgets, k3d"
   ]
  },
  {
   "cell_type": "code",
   "execution_count": 25,
   "metadata": {},
   "outputs": [
    {
     "name": "stdout",
     "output_type": "stream",
     "text": [
      "Calculation time took 5.0256569385528564 seconds\n",
      "Parsing time took 6.906073331832886 seconds\n",
      "The number of triangle elements (cells/faces) is: 200305\n",
      "Convert 2 VTK time took 0.594963550567627 seconds\n"
     ]
    },
    {
     "data": {
      "application/vnd.jupyter.widget-view+json": {
       "model_id": "6f54894b280e4229b758d28de5a1d6cf",
       "version_major": 2,
       "version_minor": 0
      },
      "text/plain": [
       "Plot(antialias=3, axes=['x', 'y', 'z'], axes_helper=1.0, background_color=16777215, camera=[327825.97439773346…"
      ]
     },
     "metadata": {},
     "output_type": "display_data"
    }
   ],
   "source": [
    "#Alter the mesh size if desiring to speed up the process. Recommended size is 100\n",
    "output_name = 'noddy_out'\n",
    "cubesize = 100\n",
    "includeGravityCalc = 0\n",
    "xy_origin=[316448, 4379166, -2700]\n",
    "\n",
    "plot = vtkP.Plotter(axes=1, bg='white', interactive=1)\n",
    "plt3d.plot_3d_model(best_model_file, cubesize, plot, xy_origin=[316448, 4379166, -2700])\n",
    "\n",
    "# add topography\n",
    "##################\n",
    "# perform a 2D Delaunay triangulation to get the cells from the point cloud\n",
    "landSurfacePD = pd.read_csv(\"Data/TopographyNew2.csv\")\n",
    "landSurfacePD = landSurfacePD[['X', 'Y', 'rvalue_1']].values\n",
    "tri = Delaunay(landSurfacePD[:, 0:2])\n",
    "\n",
    "# create a mesh object for the land surface\n",
    "landSurface = vtkP.Mesh([landSurfacePD, tri.simplices])\n",
    "\n",
    "# in order to color it by the elevation, we use the z values of the mesh\n",
    "zvals = landSurface.points()[:, 2]\n",
    "landSurface.pointColors(zvals, cmap=\"terrain\", vmin=1000)\n",
    "landSurface.name = \"Land Surface\" # give the object a name\n",
    "\n",
    "plot+=landSurface\n",
    "\n",
    "plot.show(viewup='z')"
   ]
  }
 ],
 "metadata": {
  "kernelspec": {
   "display_name": "Python 3",
   "language": "python",
   "name": "python3"
  },
  "language_info": {
   "codemirror_mode": {
    "name": "ipython",
    "version": 3
   },
   "file_extension": ".py",
   "mimetype": "text/x-python",
   "name": "python",
   "nbconvert_exporter": "python",
   "pygments_lexer": "ipython3",
   "version": "3.7.6"
  }
 },
 "nbformat": 4,
 "nbformat_minor": 4
}
