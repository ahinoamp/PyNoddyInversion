{
 "cells": [
  {
   "cell_type": "markdown",
   "metadata": {},
   "source": [
    "# 1. Setup"
   ]
  },
  {
   "cell_type": "code",
   "execution_count": 3,
   "metadata": {},
   "outputs": [
    {
     "data": {
      "text/plain": [
       "0"
      ]
     },
     "execution_count": 3,
     "metadata": {},
     "output_type": "execute_result"
    }
   ],
   "source": [
    "# some imports\n",
    "import sys\n",
    "import os\n",
    "import MCMC_Noddy as mcmc     \n",
    "\n",
    "# give correct permissions to the executable\n",
    "folder = os.getcwd()\n",
    "noddyEXE = folder+'/noddy_linux.exe'\n",
    "strV = 'chmod 777 '+noddyEXE\n",
    "os.system(strV)"
   ]
  },
  {
   "cell_type": "markdown",
   "metadata": {},
   "source": [
    "# 2. Choose hyper parameters"
   ]
  },
  {
   "cell_type": "code",
   "execution_count": 4,
   "metadata": {},
   "outputs": [],
   "source": [
    "HyperParameters = {}\n",
    "\n",
    "HyperParameters['ScenarioNum'] = 18\n",
    "HyperParameters['SimulationShiftType'] = 'Median Datum Shift'\n",
    "HyperParameters['DatNormMethod'] = 'MedianInitialRounds'\n",
    "HyperParameters['ExplorationRate'] = 'LinearErrorBased'\n",
    "HyperParameters['ErrorType'] = 'Global'\n",
    "HyperParameters['ErrorNorm'] = 'L1'\n",
    "HyperParameters['ExplorationStage'] = 'Explore'\n",
    "HyperParameters['AcceptProbType'] = 'Track Acceptance'\n",
    "HyperParameters['cubesize'] = 150\n",
    "HyperParameters['AcceptanceGoal'] = 0.2\n",
    "HyperParameters['ConstNormFactor'] = 0.01\n",
    "HyperParameters['GlobalMoveEachDir'] = 500\n",
    "HyperParameters['XYZ_Axes_StepStd'] = 100\n",
    "HyperParameters['Dip_StepStd'] = 5\n",
    "HyperParameters['Slip_StepStd'] = 50\n",
    "HyperParameters['DipDirection_StepStd'] = 6\n",
    "HyperParameters['SlipParam'] = 0.1\n",
    "HyperParameters['SteppingSizeMult'] = 1/0.9\n",
    "HyperParameters['MaxFaultMarkerError'] = 525\n",
    "HyperParameters['AmplitudeRatioChange'] = 0.1\n",
    "HyperParameters['AzimuthMoveEachDirection'] = 6\n",
    "HyperParameters['AxisRatioChange'] = 0.1\n",
    "HyperParameters['DipMoveEachDirection'] = 32\n",
    "HyperParameters['nExploreRuns'] = 50\n",
    "HyperParameters['MO_WeightingMethod'] = 'Proportions'\n",
    "HyperParameters['MCMC_SwitchWeightFreq'] = 20\n",
    "HyperParameters['LocalWeightsMode'] = 'na'\n",
    "\n",
    "HyperParameters['thread_num'] = 15        \n",
    "HyperParameters['Toy']=False\n",
    "HyperParameters['verbose']=True\n",
    "HyperParameters['nruns']=200\n",
    "HyperParameters['BaseFolder']='Combo_Scratch'\n",
    "HyperParameters['GeneralPerturbStrategy']='OnlyGlobal'\n",
    "HyperParameters['ControlPointMovementUnits'] = 'Absolute value'\n",
    "HyperParameters['errCalcMethodFaultMarker']= 'Distance'\n",
    "HyperParameters['DataTypes'] = ['Grav', 'Mag', 'GT', 'FaultMarkers']\n",
    "HyperParameters['JoinType']='LINES'\n",
    "HyperParameters['xy_origin']=[316448, 4379166, -2700]\n",
    "HyperParameters['xy_extent'] = [8850, 9000,3900]\n",
    "HyperParameters['DatNormCoef'] = {'Grav': 2.4, 'Tracer': 1.0, \n",
    "                        'FaultMarkers': 500, 'GT': 315, 'Mag':300}\n",
    "HyperParameters['verbose']=True    \n",
    "HyperParameters['graniteIdx'] = 4\n",
    "HyperParameters['Windows'] = False\n",
    "HyperParameters['jupyter'] = True\n",
    "\n",
    "HyperParameters['OutputImageFreq'] = 15        \n",
    "HyperParameters['OptimMethod']='MCMC'"
   ]
  },
  {
   "cell_type": "markdown",
   "metadata": {},
   "source": [
    "# 3. Run and view results every x times (x=output image frequency)"
   ]
  },
  {
   "cell_type": "code",
   "execution_count": 5,
   "metadata": {},
   "outputs": [
    {
     "name": "stdout",
     "output_type": "stream",
     "text": [
      "Finished calculating geology and topology\n",
      "Finished calculating gravity and magnetics\n",
      "There might be an issue\n"
     ]
    },
    {
     "ename": "KeyError",
     "evalue": "'xEdge'",
     "output_type": "error",
     "traceback": [
      "\u001b[0;31m---------------------------------------------------------------------------\u001b[0m",
      "\u001b[0;31mKeyError\u001b[0m                                  Traceback (most recent call last)",
      "\u001b[0;32m<ipython-input-5-2c40494989f0>\u001b[0m in \u001b[0;36m<module>\u001b[0;34m\u001b[0m\n\u001b[1;32m      1\u001b[0m \u001b[0;32mif\u001b[0m\u001b[0;34m(\u001b[0m\u001b[0mHyperParameters\u001b[0m\u001b[0;34m[\u001b[0m\u001b[0;34m'OptimMethod'\u001b[0m\u001b[0;34m]\u001b[0m\u001b[0;34m==\u001b[0m\u001b[0;34m'MCMC'\u001b[0m\u001b[0;34m)\u001b[0m\u001b[0;34m:\u001b[0m\u001b[0;34m\u001b[0m\u001b[0;34m\u001b[0m\u001b[0m\n\u001b[0;32m----> 2\u001b[0;31m     \u001b[0mmcmc\u001b[0m\u001b[0;34m.\u001b[0m\u001b[0mMCMC_Noddy\u001b[0m\u001b[0;34m(\u001b[0m\u001b[0mHyperParameters\u001b[0m\u001b[0;34m)\u001b[0m\u001b[0;34m\u001b[0m\u001b[0;34m\u001b[0m\u001b[0m\n\u001b[0m",
      "\u001b[0;32m~/code/MCMC_Noddy.py\u001b[0m in \u001b[0;36mMCMC_Noddy\u001b[0;34m(HypPara)\u001b[0m\n\u001b[1;32m     50\u001b[0m     \u001b[0mMCMC\u001b[0m\u001b[0;34m.\u001b[0m\u001b[0mupdateDataTypeWeights\u001b[0m\u001b[0;34m(\u001b[0m\u001b[0mP\u001b[0m\u001b[0;34m)\u001b[0m\u001b[0;34m\u001b[0m\u001b[0;34m\u001b[0m\u001b[0m\n\u001b[1;32m     51\u001b[0m     \u001b[0msample\u001b[0m\u001b[0;34m.\u001b[0m\u001b[0mProposeParameters\u001b[0m\u001b[0;34m(\u001b[0m\u001b[0mP\u001b[0m\u001b[0;34m)\u001b[0m\u001b[0;34m\u001b[0m\u001b[0;34m\u001b[0m\u001b[0m\n\u001b[0;32m---> 52\u001b[0;31m     \u001b[0msim\u001b[0m\u001b[0;34m.\u001b[0m\u001b[0msimulate_calc_mismatch\u001b[0m\u001b[0;34m(\u001b[0m\u001b[0mP\u001b[0m\u001b[0;34m)\u001b[0m\u001b[0;34m\u001b[0m\u001b[0;34m\u001b[0m\u001b[0m\n\u001b[0m\u001b[1;32m     53\u001b[0m \u001b[0;34m\u001b[0m\u001b[0m\n\u001b[1;32m     54\u001b[0m     \u001b[0;32mif\u001b[0m\u001b[0;34m(\u001b[0m\u001b[0mP\u001b[0m\u001b[0;34m[\u001b[0m\u001b[0;34m'HypP'\u001b[0m\u001b[0;34m]\u001b[0m\u001b[0;34m[\u001b[0m\u001b[0;34m'ErrorType'\u001b[0m\u001b[0;34m]\u001b[0m\u001b[0;34m==\u001b[0m\u001b[0;34m'Local'\u001b[0m\u001b[0;34m)\u001b[0m\u001b[0;34m:\u001b[0m\u001b[0;34m\u001b[0m\u001b[0;34m\u001b[0m\u001b[0m\n",
      "\u001b[0;32m~/code/SimulationUtilities.py\u001b[0m in \u001b[0;36msimulate_calc_mismatch\u001b[0;34m(P)\u001b[0m\n\u001b[1;32m    170\u001b[0m     \u001b[0;31m# Calculate the fault intersections\u001b[0m\u001b[0;34m\u001b[0m\u001b[0;34m\u001b[0m\u001b[0;34m\u001b[0m\u001b[0m\n\u001b[1;32m    171\u001b[0m     \u001b[0;32mif\u001b[0m\u001b[0;34m(\u001b[0m\u001b[0;34m'FaultMarkers'\u001b[0m \u001b[0;32min\u001b[0m \u001b[0mP\u001b[0m\u001b[0;34m[\u001b[0m\u001b[0;34m'DataTypes'\u001b[0m\u001b[0;34m]\u001b[0m\u001b[0;34m)\u001b[0m\u001b[0;34m:\u001b[0m\u001b[0;34m\u001b[0m\u001b[0;34m\u001b[0m\u001b[0m\n\u001b[0;32m--> 172\u001b[0;31m         \u001b[0mcalc_fault_markers\u001b[0m\u001b[0;34m(\u001b[0m\u001b[0mP\u001b[0m\u001b[0;34m)\u001b[0m\u001b[0;34m\u001b[0m\u001b[0;34m\u001b[0m\u001b[0m\n\u001b[0m\u001b[1;32m    173\u001b[0m \u001b[0;34m\u001b[0m\u001b[0m\n\u001b[1;32m    174\u001b[0m \u001b[0;34m\u001b[0m\u001b[0m\n",
      "\u001b[0;32m~/code/SimulationUtilities.py\u001b[0m in \u001b[0;36mcalc_fault_markers\u001b[0;34m(P)\u001b[0m\n\u001b[1;32m    748\u001b[0m         +P['zmin'])\n\u001b[1;32m    749\u001b[0m     faultinterpolator = RegularGridInterpolator((P['xLith'], P['yLith'], z), \n\u001b[0;32m--> 750\u001b[0;31m                                             \u001b[0mP\u001b[0m\u001b[0;34m[\u001b[0m\u001b[0;34m'xEdge'\u001b[0m\u001b[0;34m]\u001b[0m\u001b[0;34m+\u001b[0m\u001b[0mP\u001b[0m\u001b[0;34m[\u001b[0m\u001b[0;34m'yEdge'\u001b[0m\u001b[0;34m]\u001b[0m\u001b[0;34m+\u001b[0m\u001b[0mP\u001b[0m\u001b[0;34m[\u001b[0m\u001b[0;34m'zEdge'\u001b[0m\u001b[0;34m]\u001b[0m\u001b[0;34m,\u001b[0m\u001b[0;34m\u001b[0m\u001b[0;34m\u001b[0m\u001b[0m\n\u001b[0m\u001b[1;32m    751\u001b[0m                                             method='nearest')\n\u001b[1;32m    752\u001b[0m \u001b[0;34m\u001b[0m\u001b[0m\n",
      "\u001b[0;31mKeyError\u001b[0m: 'xEdge'"
     ]
    }
   ],
   "source": [
    "if(HyperParameters['OptimMethod']=='MCMC'):\n",
    "    mcmc.MCMC_Noddy(HyperParameters)"
   ]
  },
  {
   "cell_type": "markdown",
   "metadata": {},
   "source": [
    "# 4. Find the model with least error"
   ]
  },
  {
   "cell_type": "code",
   "execution_count": 9,
   "metadata": {},
   "outputs": [
    {
     "data": {
      "text/plain": [
       "'chmod 777 /home/jovyan/code/noddy.exe'"
      ]
     },
     "execution_count": 9,
     "metadata": {},
     "output_type": "execute_result"
    }
   ],
   "source": [
    "#find "
   ]
  },
  {
   "cell_type": "markdown",
   "metadata": {},
   "source": [
    "# 5. Plot in 3D"
   ]
  },
  {
   "cell_type": "code",
   "execution_count": null,
   "metadata": {},
   "outputs": [],
   "source": []
  }
 ],
 "metadata": {
  "kernelspec": {
   "display_name": "Python 3",
   "language": "python",
   "name": "python3"
  },
  "language_info": {
   "codemirror_mode": {
    "name": "ipython",
    "version": 3
   },
   "file_extension": ".py",
   "mimetype": "text/x-python",
   "name": "python",
   "nbconvert_exporter": "python",
   "pygments_lexer": "ipython3",
   "version": "3.7.4"
  }
 },
 "nbformat": 4,
 "nbformat_minor": 4
}
